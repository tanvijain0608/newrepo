{
 "cells": [
  {
   "cell_type": "code",
   "execution_count": null,
   "id": "d7cbf2ee",
   "metadata": {},
   "outputs": [
    {
     "name": "stdout",
     "output_type": "stream",
     "text": [
      "5.0\n"
     ]
    }
   ],
   "source": [
    "no1 = int(input(\"Enter first number: \"))\n",
    "no2 = int(input(\"Enter second number: \"))\n",
    "expression = input(\"Enter expression: \")\n",
    "if expression == \"+\":\n",
    "    print(no1 + no2)\n",
    "    print(\"Addition of two numbers is:\", no1 + no2)\n",
    "elif expression == \"-\":\n",
    "    print(no1 - no2)\n",
    "    print(\"Subtraction of two numbers is:\", no1 - no2)\n",
    "elif expression == \"*\":    \n",
    "    print(no1 * no2)\n",
    "    print(\"Multiplication of two numbers is:\", no1 * no2)\n",
    "elif expression == \"/\":\n",
    "    if no2 == 0:\n",
    "        print(\"Division by zero is not allowed.\")\n",
    "    else:\n",
    "        print(no1 / no2)\n",
    "        print(\"Division of two numbers is:\", no1 / no2)\n",
    "elif expression == \"%\":\n",
    "    if no2 == 0:\n",
    "        print(\"Division by zero is not allowed.\")\n",
    "    else:\n",
    "        print(no1 % no2)\n",
    "        print(\"Modulus of two numbers is:\", no1 % no2)\n",
    "elif expression == \"**\":\n",
    "    print(no1 ** no2)\n",
    "    print(\"Power of two numbers is:\", no1 ** no2)\n",
    "elif expression == \"//\":\n",
    "    if no2 == 0:\n",
    "        print(\"Division by zero is not allowed.\")\n",
    "    else:\n",
    "        print(no1 // no2)\n",
    "        print(\"Floor division of two numbers is:\", no1 // no2)\n",
    "else:\n",
    "    print(\"Invalid expression\")"
   ]
  }
 ],
 "metadata": {
  "kernelspec": {
   "display_name": "Python 3",
   "language": "python",
   "name": "python3"
  },
  "language_info": {
   "codemirror_mode": {
    "name": "ipython",
    "version": 3
   },
   "file_extension": ".py",
   "mimetype": "text/x-python",
   "name": "python",
   "nbconvert_exporter": "python",
   "pygments_lexer": "ipython3",
   "version": "3.10.0"
  }
 },
 "nbformat": 4,
 "nbformat_minor": 5
}
